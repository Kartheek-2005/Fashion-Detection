{
 "cells": [
  {
   "cell_type": "markdown",
   "id": "154dbfed",
   "metadata": {},
   "source": [
    "<h3>Data Loading</h3>"
   ]
  },
  {
   "cell_type": "code",
   "execution_count": 1,
   "id": "fb2a563a",
   "metadata": {},
   "outputs": [],
   "source": [
    "from keras.datasets import fashion_mnist\n",
    "\n",
    "(train_data, train_labels), (test_data, test_labels) = fashion_mnist.load_data()"
   ]
  },
  {
   "cell_type": "code",
   "execution_count": 2,
   "id": "4c6fbb7e",
   "metadata": {},
   "outputs": [
    {
     "name": "stdout",
     "output_type": "stream",
     "text": [
      "(60000, 28, 28) (60000,) (10000, 28, 28) (10000,)\n"
     ]
    }
   ],
   "source": [
    "print(train_data.shape, train_labels.shape, test_data.shape, test_labels.shape)"
   ]
  },
  {
   "cell_type": "code",
   "execution_count": 3,
   "id": "35171877",
   "metadata": {},
   "outputs": [
    {
     "data": {
      "text/plain": [
       "array([9, 0, 0, ..., 3, 0, 5], dtype=uint8)"
      ]
     },
     "execution_count": 3,
     "metadata": {},
     "output_type": "execute_result"
    }
   ],
   "source": [
    "train_labels"
   ]
  },
  {
   "cell_type": "markdown",
   "id": "ef03a0ef",
   "metadata": {},
   "source": [
    "<h3>Network Architecture</h3>"
   ]
  },
  {
   "cell_type": "code",
   "execution_count": 4,
   "id": "f7c6954d",
   "metadata": {},
   "outputs": [],
   "source": [
    "from keras import models\n",
    "from keras import layers\n",
    "\n",
    "network = models.Sequential()\n",
    "# Convolution and MaxPooling layers\n",
    "network.add(layers.Conv2D(64, (3, 3), activation = 'relu', input_shape = (28, 28, 1)))\n",
    "network.add(layers.MaxPooling2D(2, 2))\n",
    "network.add(layers.Conv2D(64, (3, 3), activation = 'relu'))\n",
    "network.add(layers.MaxPooling2D(2, 2))\n",
    "# Fully connected layers\n",
    "network.add(layers.Flatten())\n",
    "network.add(layers.Dense(128, activation = 'relu'))\n",
    "network.add(layers.Dense(10, activation = 'softmax'))\n",
    "\n",
    "# Compile\n",
    "network.compile(optimizer = 'rmsprop', loss = 'categorical_crossentropy', metrics = ['accuracy'])"
   ]
  },
  {
   "cell_type": "markdown",
   "id": "0a8c678d",
   "metadata": {},
   "source": [
    "<h3>Data Preprocessing</h3>"
   ]
  },
  {
   "cell_type": "code",
   "execution_count": 5,
   "id": "41ff5d20",
   "metadata": {},
   "outputs": [
    {
     "name": "stdout",
     "output_type": "stream",
     "text": [
      "[0 1 2 3 4 5 6 7 8 9]\n"
     ]
    }
   ],
   "source": [
    "import numpy as np\n",
    "\n",
    "print(np.unique(train_labels))\n",
    "\n",
    "def one_hot(data, dimension = 10) :\n",
    "    result = np.zeros((len(data), 10))\n",
    "    for i, seq in enumerate(data):\n",
    "        result[i, seq] = 1\n",
    "    return result"
   ]
  },
  {
   "cell_type": "code",
   "execution_count": 6,
   "id": "66859416",
   "metadata": {},
   "outputs": [],
   "source": [
    "train_data = train_data.reshape((len(train_data), 28, 28, 1))\n",
    "train_data = train_data.astype('float32') / 255\n",
    "train_labels = one_hot(train_labels)\n",
    "\n",
    "test_data = test_data.reshape((len(test_data), 28, 28, 1))\n",
    "test_data = test_data.astype('float32') / 255\n",
    "test_labels = one_hot(test_labels)"
   ]
  },
  {
   "cell_type": "markdown",
   "id": "50e09a31",
   "metadata": {},
   "source": [
    "<h3>Cross Validation</h3>"
   ]
  },
  {
   "cell_type": "code",
   "execution_count": 7,
   "id": "4fafcf8f",
   "metadata": {},
   "outputs": [],
   "source": [
    "x_cval = train_data[:10000]\n",
    "x_train = train_data[10000:]\n",
    "\n",
    "y_cval = train_labels[:10000]\n",
    "y_train = train_labels[10000:]"
   ]
  },
  {
   "cell_type": "markdown",
   "id": "10c2957e",
   "metadata": {},
   "source": [
    "<h3>Model Training</h3>"
   ]
  },
  {
   "cell_type": "code",
   "execution_count": 8,
   "id": "d292d7a0",
   "metadata": {},
   "outputs": [
    {
     "name": "stdout",
     "output_type": "stream",
     "text": [
      "Epoch 1/20\n",
      "1563/1563 [==============================] - 39s 25ms/step - loss: 0.4605 - accuracy: 0.8318 - val_loss: 0.3772 - val_accuracy: 0.8510\n",
      "Epoch 2/20\n",
      "1563/1563 [==============================] - 42s 27ms/step - loss: 0.3050 - accuracy: 0.8872 - val_loss: 0.2921 - val_accuracy: 0.8899\n",
      "Epoch 3/20\n",
      "1563/1563 [==============================] - 41s 27ms/step - loss: 0.2600 - accuracy: 0.9047 - val_loss: 0.2858 - val_accuracy: 0.8954\n",
      "Epoch 4/20\n",
      "1563/1563 [==============================] - 39s 25ms/step - loss: 0.2339 - accuracy: 0.9136 - val_loss: 0.2440 - val_accuracy: 0.9114\n",
      "Epoch 5/20\n",
      "1563/1563 [==============================] - 39s 25ms/step - loss: 0.2115 - accuracy: 0.9224 - val_loss: 0.2747 - val_accuracy: 0.9046\n",
      "Epoch 6/20\n",
      "1563/1563 [==============================] - 41s 26ms/step - loss: 0.1940 - accuracy: 0.9283 - val_loss: 0.2632 - val_accuracy: 0.9113\n",
      "Epoch 7/20\n",
      "1563/1563 [==============================] - 41s 26ms/step - loss: 0.1791 - accuracy: 0.9347 - val_loss: 0.2407 - val_accuracy: 0.9165\n",
      "Epoch 8/20\n",
      "1563/1563 [==============================] - 39s 25ms/step - loss: 0.1652 - accuracy: 0.9391 - val_loss: 0.2624 - val_accuracy: 0.9145\n",
      "Epoch 9/20\n",
      "1563/1563 [==============================] - 39s 25ms/step - loss: 0.1536 - accuracy: 0.9453 - val_loss: 0.2788 - val_accuracy: 0.9126\n",
      "Epoch 10/20\n",
      "1563/1563 [==============================] - 39s 25ms/step - loss: 0.1414 - accuracy: 0.9486 - val_loss: 0.3004 - val_accuracy: 0.9091\n",
      "Epoch 11/20\n",
      "1563/1563 [==============================] - 40s 25ms/step - loss: 0.1346 - accuracy: 0.9521 - val_loss: 0.3126 - val_accuracy: 0.9120\n",
      "Epoch 12/20\n",
      "1563/1563 [==============================] - 38s 24ms/step - loss: 0.1251 - accuracy: 0.9554 - val_loss: 0.3252 - val_accuracy: 0.9094\n",
      "Epoch 13/20\n",
      "1563/1563 [==============================] - 38s 24ms/step - loss: 0.1175 - accuracy: 0.9578 - val_loss: 0.3742 - val_accuracy: 0.9080\n",
      "Epoch 14/20\n",
      "1563/1563 [==============================] - 38s 25ms/step - loss: 0.1082 - accuracy: 0.9612 - val_loss: 0.3715 - val_accuracy: 0.9030\n",
      "Epoch 15/20\n",
      "1563/1563 [==============================] - 38s 24ms/step - loss: 0.1024 - accuracy: 0.9629 - val_loss: 0.3719 - val_accuracy: 0.9114\n",
      "Epoch 16/20\n",
      "1563/1563 [==============================] - 39s 25ms/step - loss: 0.0955 - accuracy: 0.9659 - val_loss: 0.4083 - val_accuracy: 0.9057\n",
      "Epoch 17/20\n",
      "1563/1563 [==============================] - 41s 26ms/step - loss: 0.0900 - accuracy: 0.9682 - val_loss: 0.3718 - val_accuracy: 0.9103\n",
      "Epoch 18/20\n",
      "1563/1563 [==============================] - 41s 26ms/step - loss: 0.0849 - accuracy: 0.9698 - val_loss: 0.4868 - val_accuracy: 0.9031\n",
      "Epoch 19/20\n",
      "1563/1563 [==============================] - 38s 24ms/step - loss: 0.0784 - accuracy: 0.9728 - val_loss: 0.4282 - val_accuracy: 0.9124\n",
      "Epoch 20/20\n",
      "1563/1563 [==============================] - 40s 25ms/step - loss: 0.0739 - accuracy: 0.9735 - val_loss: 0.4910 - val_accuracy: 0.9019\n"
     ]
    }
   ],
   "source": [
    "results = network.fit(x_train, y_train, epochs = 20, validation_data = (x_cval, y_cval))"
   ]
  },
  {
   "cell_type": "code",
   "execution_count": 9,
   "id": "517aa974",
   "metadata": {},
   "outputs": [
    {
     "data": {
      "text/plain": [
       "dict_keys(['loss', 'accuracy', 'val_loss', 'val_accuracy'])"
      ]
     },
     "execution_count": 9,
     "metadata": {},
     "output_type": "execute_result"
    }
   ],
   "source": [
    "History = results.history\n",
    "History.keys()"
   ]
  },
  {
   "cell_type": "markdown",
   "id": "67f00f73",
   "metadata": {},
   "source": [
    "<h3>Plotting Training and Validation Loss and Accuracy</h3>"
   ]
  },
  {
   "cell_type": "code",
   "execution_count": 10,
   "id": "6d5dd8f3",
   "metadata": {},
   "outputs": [
    {
     "data": {
      "image/png": "[encoded data removed]",
      "text/plain": [
       "<Figure size 640x480 with 1 Axes>"
      ]
     },
     "metadata": {},
     "output_type": "display_data"
    },
    {
     "data": {
      "image/png": "[encoded data removed]",
      "text/plain": [
       "<Figure size 640x480 with 1 Axes>"
      ]
     },
     "metadata": {},
     "output_type": "display_data"
    },
    {
     "data": {
      "text/plain": [
       "<Figure size 640x480 with 0 Axes>"
      ]
     },
     "metadata": {},
     "output_type": "display_data"
    }
   ],
   "source": [
    "import matplotlib.pyplot as plt\n",
    "\n",
    "epochs = range(1, len(History['loss']) + 1)\n",
    "\n",
    "# Training and Cross Validation Loss\n",
    "plt.plot(epochs, History['loss'], 'bo', label = 'Training Loss')\n",
    "plt.plot(epochs, History['val_loss'], 'b', label = 'Cross Validation Loss')\n",
    "plt.xlabel('Epochs')\n",
    "plt.ylabel('Loss')\n",
    "plt.title('Training and Cross Validation Loss')\n",
    "plt.legend()\n",
    "\n",
    "plt.show()\n",
    "plt.clf()\n",
    "\n",
    "# Training and Cross Validation Accuracy\n",
    "plt.plot(epochs, History['accuracy'], 'bo', label = 'Training Accuracy')\n",
    "plt.plot(epochs, History['val_accuracy'], 'b', label = 'Cross Validation Accuracy')\n",
    "plt.xlabel('Epochs')\n",
    "plt.ylabel('Training and Cross Validation Accuracy')\n",
    "plt.legend()\n",
    "\n",
    "plt.show()\n",
    "plt.clf()"
   ]
  },
  {
   "cell_type": "markdown",
   "id": "6554d00a",
   "metadata": {},
   "source": [
    "<h3>Retraining the model</h3>"
   ]
  },
  {
   "cell_type": "code",
   "execution_count": 11,
   "id": "00fde65e",
   "metadata": {},
   "outputs": [
    {
     "name": "stdout",
     "output_type": "stream",
     "text": [
      "Epoch 1/8\n",
      "1875/1875 [==============================] - 46s 24ms/step - loss: 0.4403 - accuracy: 0.8383\n",
      "Epoch 2/8\n",
      "1875/1875 [==============================] - 45s 24ms/step - loss: 0.2887 - accuracy: 0.8945\n",
      "Epoch 3/8\n",
      "1875/1875 [==============================] - 44s 24ms/step - loss: 0.2485 - accuracy: 0.9093\n",
      "Epoch 4/8\n",
      "1875/1875 [==============================] - 46s 24ms/step - loss: 0.2219 - accuracy: 0.9186\n",
      "Epoch 5/8\n",
      "1875/1875 [==============================] - 46s 25ms/step - loss: 0.2029 - accuracy: 0.9265\n",
      "Epoch 6/8\n",
      "1875/1875 [==============================] - 43s 23ms/step - loss: 0.1865 - accuracy: 0.9321\n",
      "Epoch 7/8\n",
      "1875/1875 [==============================] - 44s 23ms/step - loss: 0.1735 - accuracy: 0.9380\n",
      "Epoch 8/8\n",
      "1875/1875 [==============================] - 44s 23ms/step - loss: 0.1605 - accuracy: 0.9422\n"
     ]
    },
    {
     "data": {
      "text/plain": [
       "<keras.callbacks.History at 0x246b11082e0>"
      ]
     },
     "execution_count": 11,
     "metadata": {},
     "output_type": "execute_result"
    }
   ],
   "source": [
    "model = models.Sequential()\n",
    "# Convolution and Pooling layers\n",
    "model.add(layers.Conv2D(64, (3, 3), activation = 'relu', input_shape = (28, 28, 1)))\n",
    "model.add(layers.MaxPooling2D(2, 2))\n",
    "model.add(layers.Conv2D(64, (3, 3), activation = 'relu'))\n",
    "model.add(layers.MaxPooling2D(2, 2))\n",
    "# Fully connected layers\n",
    "model.add(layers.Flatten())\n",
    "model.add(layers.Dense(128, activation = 'relu', input_shape = (28 * 28,)))\n",
    "model.add(layers.Dense(10, activation = 'softmax'))\n",
    "\n",
    "# Compile\n",
    "model.compile(optimizer = 'rmsprop', loss = 'categorical_crossentropy', metrics = ['accuracy'])\n",
    "\n",
    "# Fit\n",
    "model.fit(train_data, train_labels, epochs = 8)"
   ]
  },
  {
   "cell_type": "markdown",
   "id": "6efb8813",
   "metadata": {},
   "source": [
    "<h3>Evaluating on Test data</h3>"
   ]
  },
  {
   "cell_type": "code",
   "execution_count": 12,
   "id": "aff04406",
   "metadata": {},
   "outputs": [
    {
     "name": "stdout",
     "output_type": "stream",
     "text": [
      "313/313 [==============================] - 2s 7ms/step - loss: 0.2856 - accuracy: 0.9065\n"
     ]
    },
    {
     "data": {
      "text/plain": [
       "[0.28555604815483093, 0.906499981880188]"
      ]
     },
     "execution_count": 12,
     "metadata": {},
     "output_type": "execute_result"
    }
   ],
   "source": [
    "test_results = model.evaluate(test_data, test_labels)\n",
    "test_results"
   ]
  },
  {
   "cell_type": "markdown",
   "id": "dfeaed77",
   "metadata": {},
   "source": [
    "<h3>Evaluating on Random Fashion images</h3>"
   ]
  },
  {
   "cell_type": "code",
   "execution_count": 13,
   "id": "665ff578",
   "metadata": {},
   "outputs": [],
   "source": [
    "(A, B), (C, D) = fashion_mnist.load_data()"
   ]
  },
  {
   "cell_type": "code",
   "execution_count": 14,
   "id": "d8bec3df",
   "metadata": {},
   "outputs": [
    {
     "data": {
      "text/plain": [
       "'Trouser'"
      ]
     },
     "execution_count": 14,
     "metadata": {},
     "output_type": "execute_result"
    }
   ],
   "source": [
    "def item(idx) :\n",
    "    if idx == 0:\n",
    "        return \"T-shirt/ Top\"\n",
    "    elif idx == 1:\n",
    "        return \"Trouser\"\n",
    "    elif idx == 2:\n",
    "        return \"Pullover\"\n",
    "    elif idx == 3:\n",
    "        return \"Dress\"\n",
    "    elif idx == 4:\n",
    "        return \"Coat\"\n",
    "    elif idx == 5:\n",
    "        return \"Sandal\"\n",
    "    elif idx == 6:\n",
    "        return \"Shirt\"\n",
    "    elif idx == 7:\n",
    "        return \"Sneaker\"\n",
    "    elif idx == 8:\n",
    "        return \"Bag\"\n",
    "    elif idx == 9:\n",
    "        return \"Ankle boot\"\n",
    "item(1)"
   ]
  },
  {
   "cell_type": "code",
   "execution_count": 15,
   "id": "cf03ea85",
   "metadata": {},
   "outputs": [
    {
     "data": {
      "image/png": "[encoded data removed]",
      "text/plain": [
       "<Figure size 640x480 with 1 Axes>"
      ]
     },
     "metadata": {},
     "output_type": "display_data"
    },
    {
     "name": "stdout",
     "output_type": "stream",
     "text": [
      "1/1 [==============================] - 0s 98ms/step\n",
      "The object is Pullover with a probability of 0.999772\n"
     ]
    },
    {
     "data": {
      "text/plain": [
       "<Figure size 640x480 with 0 Axes>"
      ]
     },
     "metadata": {},
     "output_type": "display_data"
    }
   ],
   "source": [
    "import matplotlib.pyplot as plt\n",
    "\n",
    "X = A[58767]\n",
    "\n",
    "plt.imshow(X, cmap = plt.cm.binary)\n",
    "plt.show()\n",
    "\n",
    "X = X.reshape((1, 28, 28, 1))\n",
    "X = X.astype('float32') / 255\n",
    "y = model.predict(X)\n",
    "\n",
    "y = y.ravel()\n",
    "pred = np.where(y == y.max())\n",
    "\n",
    "print(\"The object is\", item(pred[0]), \"with a probability of\", y.max())\n",
    "\n",
    "plt.clf()"
   ]
  }
 ],
 "metadata": {
  "kernelspec": {
   "display_name": "Python 3 (ipykernel)",
   "language": "python",
   "name": "python3"
  },
  "language_info": {
   "codemirror_mode": {
    "name": "ipython",
    "version": 3
   },
   "file_extension": ".py",
   "mimetype": "text/x-python",
   "name": "python",
   "nbconvert_exporter": "python",
   "pygments_lexer": "ipython3",
   "version": "3.10.9"
  }
 },
 "nbformat": 4,
 "nbformat_minor": 5
}
